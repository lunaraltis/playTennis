{
 "cells": [
  {
   "cell_type": "markdown",
   "id": "9dcac4af",
   "metadata": {},
   "source": [
    "Dataset yang digunakan dalam Notebook ini adalah dataset Iris (https://archive.ics.uci.edu/ml/datasets/iris) yang disediakan dalam pustaka Sklearn. Dataset dapat di-import dengan potongan kode di bawah:\n"
   ]
  },
  {
   "cell_type": "code",
   "execution_count": 34,
   "id": "1ddb628d",
   "metadata": {},
   "outputs": [],
   "source": [
    "import pandas as pd\n",
    "from sklearn.preprocessing import LabelEncoder\n",
    "\n",
    "PlayTennis1 = pd.read_csv('C:\\play_tennis.csv', sep=',')\n",
    "PlayTennis = PlayTennis1.drop(['day'],axis=1)\n",
    "Le = LabelEncoder()\n",
    "\n",
    "PlayTennis['outlook'] = Le.fit_transform(PlayTennis['outlook'])\n",
    "PlayTennis['temp'] = Le.fit_transform(PlayTennis['temp'])\n",
    "PlayTennis['humidity'] = Le.fit_transform(PlayTennis['humidity'])\n",
    "PlayTennis['wind'] = Le.fit_transform(PlayTennis['wind'])\n",
    "PlayTennis['play'] = Le.fit_transform(PlayTennis['play'])"
   ]
  },
  {
   "cell_type": "code",
   "execution_count": 35,
   "id": "96a0f810",
   "metadata": {},
   "outputs": [],
   "source": [
    "tennis = PlayTennis.values\n",
    "x = tennis[:,:4]\n",
    "Y = tennis[:,-1]"
   ]
  },
  {
   "cell_type": "code",
   "execution_count": 36,
   "id": "b2df7076",
   "metadata": {},
   "outputs": [
    {
     "name": "stdout",
     "output_type": "stream",
     "text": [
      "[[2 1 0 1]\n",
      " [2 1 0 0]\n",
      " [0 1 0 1]\n",
      " [1 2 0 1]\n",
      " [1 0 1 1]\n",
      " [1 0 1 0]\n",
      " [0 0 1 0]\n",
      " [2 2 0 1]\n",
      " [2 0 1 1]\n",
      " [1 2 1 1]\n",
      " [2 2 1 0]\n",
      " [0 2 0 0]\n",
      " [0 1 1 1]\n",
      " [1 2 0 0]]\n"
     ]
    }
   ],
   "source": [
    "print(x)"
   ]
  },
  {
   "cell_type": "code",
   "execution_count": 37,
   "id": "42434665",
   "metadata": {},
   "outputs": [
    {
     "name": "stdout",
     "output_type": "stream",
     "text": [
      "[0 0 1 1 1 0 1 0 1 1 1 1 1 0]\n"
     ]
    }
   ],
   "source": [
    "print(Y)"
   ]
  },
  {
   "cell_type": "code",
   "execution_count": 38,
   "id": "be57b121",
   "metadata": {},
   "outputs": [
    {
     "name": "stdout",
     "output_type": "stream",
     "text": [
      "Banyaknya Data:  14\n"
     ]
    }
   ],
   "source": [
    "print(\"Banyaknya Data: \", len(x))"
   ]
  },
  {
   "cell_type": "code",
   "execution_count": 39,
   "id": "468488da",
   "metadata": {
    "scrolled": true
   },
   "outputs": [
    {
     "name": "stdout",
     "output_type": "stream",
     "text": [
      "10 Data Pertama: \n",
      "[[2 1 0 1]\n",
      " [2 1 0 0]\n",
      " [0 1 0 1]\n",
      " [1 2 0 1]\n",
      " [1 0 1 1]\n",
      " [1 0 1 0]\n",
      " [0 0 1 0]\n",
      " [2 2 0 1]\n",
      " [2 0 1 1]\n",
      " [1 2 1 1]]\n"
     ]
    }
   ],
   "source": [
    "print(\"10 Data Pertama: \")\n",
    "print(x[:10])"
   ]
  },
  {
   "cell_type": "code",
   "execution_count": 40,
   "id": "de487d18",
   "metadata": {},
   "outputs": [
    {
     "name": "stdout",
     "output_type": "stream",
     "text": [
      "10 Label Pertama: \n",
      "[0 0 1 1 1 0 1 0 1 1 1 1 1 0]\n"
     ]
    }
   ],
   "source": [
    "print(\"10 Label Pertama: \")\n",
    "print(Y[:20])"
   ]
  },
  {
   "cell_type": "code",
   "execution_count": 41,
   "id": "452fd599",
   "metadata": {},
   "outputs": [],
   "source": [
    "from sklearn.model_selection import train_test_split\n",
    "\n",
    "x_train, x_test, Y_train, Y_test = train_test_split(x, Y, train_size = 0.7)"
   ]
  },
  {
   "cell_type": "code",
   "execution_count": 42,
   "id": "b4335c24",
   "metadata": {},
   "outputs": [
    {
     "name": "stdout",
     "output_type": "stream",
     "text": [
      "Banyak data yang di training setelah dilakukan Split:  9\n",
      "Banyak data yang di test setelah dilakukan Split:  5\n"
     ]
    },
    {
     "data": {
      "text/plain": [
       "array([[0, 2, 0, 0],\n",
       "       [0, 1, 0, 1],\n",
       "       [1, 2, 0, 1],\n",
       "       [2, 0, 1, 1],\n",
       "       [2, 2, 1, 0]])"
      ]
     },
     "execution_count": 42,
     "metadata": {},
     "output_type": "execute_result"
    }
   ],
   "source": [
    "print(\"Banyak data yang di training setelah dilakukan Split: \", len(x_train))\n",
    "print(\"Banyak data yang di test setelah dilakukan Split: \", len(x_test))\n",
    "x_test"
   ]
  },
  {
   "cell_type": "code",
   "execution_count": 43,
   "id": "a0479882",
   "metadata": {},
   "outputs": [
    {
     "name": "stdout",
     "output_type": "stream",
     "text": [
      "Hasil Naive Bayes:  0.2\n"
     ]
    }
   ],
   "source": [
    "from sklearn import naive_bayes\n",
    "from sklearn import metrics\n",
    "\n",
    "nb = naive_bayes.BernoulliNB()\n",
    "\n",
    "nb.fit(x_train, Y_train)\n",
    "Y_pred = nb.predict(x_test)\n",
    "score = metrics.accuracy_score(Y_test, Y_pred)\n",
    "print(\"Hasil Naive Bayes: \", score)"
   ]
  },
  {
   "cell_type": "code",
   "execution_count": 44,
   "id": "07889db7",
   "metadata": {},
   "outputs": [],
   "source": [
    "import pickle\n",
    "import pandas as pd\n",
    "pd.to_pickle(nb,\"playTennis.pkl\")"
   ]
  }
 ],
 "metadata": {
  "kernelspec": {
   "display_name": "Python 3",
   "language": "python",
   "name": "python3"
  },
  "language_info": {
   "codemirror_mode": {
    "name": "ipython",
    "version": 3
   },
   "file_extension": ".py",
   "mimetype": "text/x-python",
   "name": "python",
   "nbconvert_exporter": "python",
   "pygments_lexer": "ipython3",
   "version": "3.8.8"
  }
 },
 "nbformat": 4,
 "nbformat_minor": 5
}
